{
  "nbformat": 4,
  "nbformat_minor": 0,
  "metadata": {
    "colab": {
      "provenance": []
    },
    "kernelspec": {
      "name": "python3",
      "display_name": "Python 3"
    },
    "language_info": {
      "name": "python"
    }
  },
  "cells": [
    {
      "cell_type": "code",
      "execution_count": null,
      "metadata": {
        "id": "sGvcFOo6jCPL"
      },
      "outputs": [],
      "source": [
        "!pip install langchain langgraph langchain_community\n",
        "!pip install langchain_anthropic\n",
        "!pip install langchain_chroma\n",
        "!pip install langchain-community pypdf\n",
        "%pip install -qU \"langchain-community>=0.2.11\" tavily-python\n",
        "!pip install faiss-cpu\n",
        "!pip install google-search-results\n",
        "pip install sentence-transformers\n"
      ]
    }
  ]
}